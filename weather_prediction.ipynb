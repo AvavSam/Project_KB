{
 "cells": [
  {
   "cell_type": "markdown",
   "metadata": {},
   "source": [
    "# Analisis Prediksi Cuaca berdasarkan suhu dan kecepatan angin"
   ]
  },
  {
   "cell_type": "markdown",
   "metadata": {},
   "source": [
    "Avav Abdillah Sam F551 23 020"
   ]
  },
  {
   "cell_type": "code",
   "execution_count": 1,
   "metadata": {},
   "outputs": [],
   "source": [
    "import pandas as pd\n",
    "from sklearn.model_selection import train_test_split\n",
    "from sklearn.ensemble import RandomForestClassifier\n",
    "from sklearn.metrics import accuracy_score, classification_report, confusion_matrix\n",
    "import matplotlib.pyplot as plt\n",
    "import seaborn as sns"
   ]
  },
  {
   "cell_type": "code",
   "execution_count": 2,
   "metadata": {},
   "outputs": [],
   "source": [
    "def load_data (path):\n",
    "  data = pd.read_csv(path)\n",
    "  return data"
   ]
  },
  {
   "cell_type": "code",
   "execution_count": 3,
   "metadata": {},
   "outputs": [],
   "source": [
    "def preprocess_data(data):\n",
    "  # Encoding target variable\n",
    "  data['weather'] = data['weather'].astype('category').cat.codes  # Convert to numeric classes\n",
    "\n",
    "  # Features\n",
    "  features = ['precipitation','temp_max', 'temp_min', 'wind']  # Using temperatures and wind speed\n",
    "  target = 'weather'  # Target variable for prediction\n",
    "\n",
    "  # Splitting the data\n",
    "  X = data[features]\n",
    "  y = data[target]\n",
    "  return X, y"
   ]
  },
  {
   "cell_type": "code",
   "execution_count": 4,
   "metadata": {},
   "outputs": [],
   "source": [
    "def split_data(X, y, test_size=0.2, random_state=42):\n",
    "  X_train, X_test, y_train, y_test = train_test_split(X, y, test_size=test_size, random_state=random_state)\n",
    "  return X_train, X_test, y_train, y_test"
   ]
  },
  {
   "cell_type": "code",
   "execution_count": 5,
   "metadata": {},
   "outputs": [],
   "source": [
    "def train_model(X_train, y_train):\n",
    "  model = RandomForestClassifier(n_estimators=100, random_state=42)\n",
    "  model.fit(X_train, y_train)\n",
    "  return model"
   ]
  },
  {
   "cell_type": "code",
   "execution_count": 6,
   "metadata": {},
   "outputs": [],
   "source": [
    "def evaluate_model(model, X_test, y_test):\n",
    "  y_pred = model.predict(X_test)\n",
    "  accuracy = accuracy_score(y_test, y_pred)\n",
    "  return accuracy"
   ]
  },
  {
   "cell_type": "code",
   "execution_count": 7,
   "metadata": {},
   "outputs": [],
   "source": [
    "def prediksi_dataBaru(model, data_baru):\n",
    "  hasil_prediksi = model.predict(data_baru)\n",
    "  return hasil_prediksi"
   ]
  },
  {
   "cell_type": "code",
   "execution_count": 8,
   "metadata": {},
   "outputs": [],
   "source": [
    "def decode_prediction(prediction):\n",
    "    weather_mapping = {\n",
    "        0: 'drizzle',\n",
    "        1: 'fog',\n",
    "        2: 'rain',\n",
    "        3: 'snow',\n",
    "        4: 'sun'\n",
    "    }\n",
    "    return weather_mapping.get(prediction[0], \"Unknown\")"
   ]
  },
  {
   "cell_type": "code",
   "execution_count": 9,
   "metadata": {},
   "outputs": [
    {
     "name": "stdout",
     "output_type": "stream",
     "text": [
      "Hasil Akurasi :  0.8156996587030717\n"
     ]
    }
   ],
   "source": [
    "df = \"seattle-weather.csv\"\n",
    "\n",
    "# 1. Load Data\n",
    "data = load_data(df)\n",
    "\n",
    "# 2. Preprocessing\n",
    "data_clean = preprocess_data(data)\n",
    "\n",
    "# 3. Split Data\n",
    "X_train, X_test, y_train, y_test = split_data(data_clean[0], data_clean[1])\n",
    "\n",
    "# 4. Train Model\n",
    "model_rf = train_model(X_train, y_train)\n",
    "\n",
    "# 5. Evaluasi\n",
    "evaluasi_model = evaluate_model(model_rf, X_test, y_test)\n",
    "\n",
    "print(\"Hasil Akurasi : \", evaluasi_model)"
   ]
  },
  {
   "cell_type": "code",
   "execution_count": 10,
   "metadata": {},
   "outputs": [
    {
     "data": {
      "text/html": [
       "<div>\n",
       "<style scoped>\n",
       "    .dataframe tbody tr th:only-of-type {\n",
       "        vertical-align: middle;\n",
       "    }\n",
       "\n",
       "    .dataframe tbody tr th {\n",
       "        vertical-align: top;\n",
       "    }\n",
       "\n",
       "    .dataframe thead th {\n",
       "        text-align: right;\n",
       "    }\n",
       "</style>\n",
       "<table border=\"1\" class=\"dataframe\">\n",
       "  <thead>\n",
       "    <tr style=\"text-align: right;\">\n",
       "      <th></th>\n",
       "      <th>precipitation</th>\n",
       "      <th>temp_max</th>\n",
       "      <th>temp_min</th>\n",
       "      <th>wind</th>\n",
       "    </tr>\n",
       "  </thead>\n",
       "  <tbody>\n",
       "    <tr>\n",
       "      <th>0</th>\n",
       "      <td>15.5</td>\n",
       "      <td>20.1</td>\n",
       "      <td>17.4</td>\n",
       "      <td>10.3</td>\n",
       "    </tr>\n",
       "  </tbody>\n",
       "</table>\n",
       "</div>"
      ],
      "text/plain": [
       "   precipitation  temp_max  temp_min  wind\n",
       "0           15.5      20.1      17.4  10.3"
      ]
     },
     "execution_count": 10,
     "metadata": {},
     "output_type": "execute_result"
    }
   ],
   "source": [
    "data_Baru = {\n",
    "    \"precipitation\" : 15.5,\n",
    "    \"temp_max\" : 20.1,\n",
    "    \"temp_min\" : 17.4,\n",
    "    \"wind\" : 10.3\n",
    "}\n",
    "\n",
    "df2 = pd.DataFrame([data_Baru])\n",
    "df2"
   ]
  },
  {
   "cell_type": "code",
   "execution_count": 11,
   "metadata": {},
   "outputs": [
    {
     "name": "stdout",
     "output_type": "stream",
     "text": [
      "Prediksi Cuaca Hari ini :  [2]\n",
      "Cuaca Hari ini :  rain\n"
     ]
    }
   ],
   "source": [
    "hasil_dataBaru = prediksi_dataBaru(model_rf, df2)\n",
    "cuaca = decode_prediction(hasil_dataBaru)\n",
    "\n",
    "print(\"Prediksi Cuaca Hari ini : \", hasil_dataBaru)\n",
    "print(\"Cuaca Hari ini : \", cuaca)"
   ]
  },
  {
   "cell_type": "code",
   "execution_count": 12,
   "metadata": {},
   "outputs": [],
   "source": [
    "def plot_cm(y_test, y_pred):\n",
    "  cm = confusion_matrix(y_test, y_pred)\n",
    "  plt.figure(figsize=(8, 6))\n",
    "  sns.heatmap(cm, annot=True, fmt='d', cmap='Blues',\n",
    "              xticklabels=data['weather'].unique(),\n",
    "              yticklabels=data['weather'].unique())\n",
    "  plt.xlabel('Predicted Labels')\n",
    "  plt.ylabel('True Labels')\n",
    "  plt.title('Confusion Matrix')\n",
    "  plt.show()"
   ]
  },
  {
   "cell_type": "code",
   "execution_count": 13,
   "metadata": {},
   "outputs": [
    {
     "data": {
      "image/png": "[encoded data removed]",
      "text/plain": [
       "<Figure size 800x600 with 2 Axes>"
      ]
     },
     "metadata": {},
     "output_type": "display_data"
    }
   ],
   "source": [
    "y_pred = model_rf.predict(X_test)\n",
    "plot_cm(y_test, y_pred)"
   ]
  },
  {
   "cell_type": "code",
   "execution_count": 14,
   "metadata": {},
   "outputs": [
    {
     "name": "stdout",
     "output_type": "stream",
     "text": [
      "              precision    recall  f1-score   support\n",
      "\n",
      "     drizzle       0.20      0.11      0.14         9\n",
      "         fog       0.40      0.08      0.13        25\n",
      "        rain       0.92      0.92      0.92       120\n",
      "        snow       0.40      0.25      0.31         8\n",
      "         sun       0.78      0.95      0.86       131\n",
      "\n",
      "    accuracy                           0.82       293\n",
      "   macro avg       0.54      0.46      0.47       293\n",
      "weighted avg       0.78      0.82      0.78       293\n",
      "\n"
     ]
    }
   ],
   "source": [
    "report = classification_report(y_test, y_pred, target_names=['drizzle', 'fog', 'rain', 'snow', 'sun'])\n",
    "print(report)"
   ]
  }
 ],
 "metadata": {
  "kernelspec": {
   "display_name": ".venv",
   "language": "python",
   "name": "python3"
  },
  "language_info": {
   "codemirror_mode": {
    "name": "ipython",
    "version": 3
   },
   "file_extension": ".py",
   "mimetype": "text/x-python",
   "name": "python",
   "nbconvert_exporter": "python",
   "pygments_lexer": "ipython3",
   "version": "3.12.6"
  }
 },
 "nbformat": 4,
 "nbformat_minor": 2
}
